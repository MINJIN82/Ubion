{
  "nbformat": 4,
  "nbformat_minor": 0,
  "metadata": {
    "colab": {
      "provenance": [],
      "include_colab_link": true
    },
    "kernelspec": {
      "name": "python3",
      "display_name": "Python 3"
    },
    "language_info": {
      "name": "python"
    }
  },
  "cells": [
    {
      "cell_type": "markdown",
      "metadata": {
        "id": "view-in-github",
        "colab_type": "text"
      },
      "source": [
        "<a href=\"https://colab.research.google.com/github/MINJIN82/Ubion/blob/main/%EA%B9%83%ED%97%99_%EC%BD%94%EB%93%9C%EC%97%B0%EC%8A%B5.ipynb\" target=\"_parent\"><img src=\"https://colab.research.google.com/assets/colab-badge.svg\" alt=\"Open In Colab\"/></a>"
      ]
    },
    {
      "cell_type": "markdown",
      "source": [
        "###20221230\n",
        "###조별자료\n",
        " "
      ],
      "metadata": {
        "id": "iupd4e_ATHvy"
      }
    },
    {
      "cell_type": "code",
      "source": [
        "power = 5\n",
        "\n",
        "while power > 0:  #power가가 1이 될때까지 반복. 0이되면 while문 탈출\n",
        "    print(\"You are still playing because your power is %d.\" % power)\n",
        "    power = power - 1\n",
        "\n",
        "else:             #power가 0이되면 아래 문구 프린트\n",
        "    print(\"\\nOh no, your power dropped to 0! Game Over.\")"
      ],
      "metadata": {
        "colab": {
          "base_uri": "https://localhost:8080/"
        },
        "id": "dDErFGGXvp95",
        "outputId": "11678474-432e-4efa-cca7-975753b9d259"
      },
      "execution_count": null,
      "outputs": [
        {
          "output_type": "stream",
          "name": "stdout",
          "text": [
            "You are still playing because your power is 5.\n",
            "You are still playing because your power is 4.\n",
            "You are still playing because your power is 3.\n",
            "You are still playing because your power is 2.\n",
            "You are still playing because your power is 1.\n",
            "\n",
            "Oh no, your power dropped to 0! Game Over.\n"
          ]
        }
      ]
    },
    {
      "cell_type": "code",
      "source": [
        "names = ['guido', 'tim', 'jesse']\n",
        "\n",
        "new_name = input(\"Please tell me someone I should know: \")  #input - 사용자가 단어 입력\n",
        "\n",
        "names.append(new_name)   #append- 사용자가 입력한 단어(new_name) names 리스트에 삽입\n",
        "\n",
        "print(names)"
      ],
      "metadata": {
        "colab": {
          "base_uri": "https://localhost:8080/"
        },
        "id": "eyfe0pkBx3X_",
        "outputId": "74a60576-aaff-40a5-e943-8c0a5f34b57b"
      },
      "execution_count": null,
      "outputs": [
        {
          "output_type": "stream",
          "name": "stdout",
          "text": [
            "Please tell me someone I should know: Sohyun\n",
            "['guido', 'tim', 'jesse', 'Sohyun']\n"
          ]
        }
      ]
    },
    {
      "cell_type": "code",
      "source": [
        "names = []\n",
        "\n",
        "new_name = ''\n",
        "\n",
        "\n",
        "while new_name != 'quit':    \n",
        "    new_name = input(\"Please tell me someone I should know or enter 'quit': \")\n",
        "    names.append(new_name)\n",
        "\n",
        "print(names)"
      ],
      "metadata": {
        "colab": {
          "base_uri": "https://localhost:8080/"
        },
        "id": "2aKHKq9iyEJX",
        "outputId": "4a8437e7-8067-4855-e6aa-04dcf1d16e1b"
      },
      "execution_count": null,
      "outputs": [
        {
          "output_type": "stream",
          "name": "stdout",
          "text": [
            "Please tell me someone I should know or enter 'quit': sohyun\n",
            "Please tell me someone I should know or enter 'quit': quit\n",
            "['sohyun', 'quit']\n"
          ]
        }
      ]
    },
    {
      "cell_type": "code",
      "source": [
        "print(\"\\nWelcome to the nature center. What would you like to do?\")\n",
        "\n",
        "choice = ''\n",
        "\n",
        "while choice != 'q':\n",
        "    print(\"\\n[1] Enter 1 to take a bicycle ride.\")\n",
        "    print(\"[2] Enter 2 to go for a run.\")\n",
        "    print(\"[3] Enter 3 to climb a mountain.\")\n",
        "    print(\"[q] Enter q to quit.\")\n",
        "    \n",
        "    # 사용자의 선택을 요청합니다.\n",
        "    choice = input(\"\\nWhat would you like to do? \")\n",
        "    \n",
        "    # 사용자의 선택에 응답합니다.\n",
        "    if choice == '1':\n",
        "        print(\"\\nHere's a bicycle. Have fun!\\n\")\n",
        "    elif choice == '2':\n",
        "        print(\"\\nHere are some running shoes. Run fast!\\n\")\n",
        "    elif choice == '3':\n",
        "        print(\"\\nHere's a map. Can you leave a trip plan for us?\\n\")\n",
        "    elif choice == 'q':\n",
        "        print(\"\\nThanks for playing. See you later.\\n\")\n",
        "    else:\n",
        "        print(\"\\nI don't understand that choice, please try again.\\n\")\n",
        "        \n",
        "# 모두 완료되었다는 메시지를 인쇄합니다.\n",
        "print(\"Thanks again, bye now.\")"
      ],
      "metadata": {
        "colab": {
          "base_uri": "https://localhost:8080/"
        },
        "id": "n13HAQrDysHq",
        "outputId": "476bf1a5-109e-4c18-e958-e8e1c7ff841a"
      },
      "execution_count": null,
      "outputs": [
        {
          "output_type": "stream",
          "name": "stdout",
          "text": [
            "\n",
            "Welcome to the nature center. What would you like to do?\n",
            "\n",
            "[1] Enter 1 to take a bicycle ride.\n",
            "[2] Enter 2 to go for a run.\n",
            "[3] Enter 3 to climb a mountain.\n",
            "[q] Enter q to quit.\n",
            "\n",
            "What would you like to do? 1\n",
            "\n",
            "Here's a bicycle. Have fun!\n",
            "\n",
            "\n",
            "[1] Enter 1 to take a bicycle ride.\n",
            "[2] Enter 2 to go for a run.\n",
            "[3] Enter 3 to climb a mountain.\n",
            "[q] Enter q to quit.\n",
            "\n",
            "What would you like to do? 3\n",
            "\n",
            "Here's a map. Can you leave a trip plan for us?\n",
            "\n",
            "\n",
            "[1] Enter 1 to take a bicycle ride.\n",
            "[2] Enter 2 to go for a run.\n",
            "[3] Enter 3 to climb a mountain.\n",
            "[q] Enter q to quit.\n",
            "\n",
            "What would you like to do? q\n",
            "\n",
            "Thanks for playing. See you later.\n",
            "\n",
            "Thanks again, bye now.\n"
          ]
        }
      ]
    },
    {
      "cell_type": "code",
      "source": [
        "# 제공하려는 각 선택 항목에 대한 작업을 정의합니다.\n",
        "def ride_bicycle():\n",
        "    print(\"\\nHere's a bicycle. Have fun!\\n\")\n",
        "    \n",
        "def go_running():\n",
        "    print(\"\\nHere are some running shoes. Run fast!\\n\")\n",
        "    \n",
        "def climb_mountain():\n",
        "    print(\"\\nHere's a map. Can you leave a trip plan for us?\\n\")\n",
        "\n",
        "# 사용자에게 약간의 컨텍스트를 제공하십시오.\n",
        "print(\"\\nWelcome to the nature center. What would you like to do?\")\n",
        "\n",
        "# '종료' 값 이외의 선택 항목에 대한 초기값을 설정합니다.\n",
        "choice = ''\n",
        "\n",
        "# 사용자가 'quit' 값을 입력할 때까지 실행되는 루프를 시작합니다.\n",
        "while choice != 'q':\n",
        "    # 일련의 인쇄 문에서 모든 선택 사항을 제공합니다.\n",
        "    print(\"\\n[1] Enter 1 to take a bicycle ride.\")\n",
        "    print(\"[2] Enter 2 to go for a run.\")\n",
        "    print(\"[3] Enter 3 to climb a mountain.\")\n",
        "    print(\"[q] Enter q to quit.\")\n",
        "    \n",
        "    # 사용자의 선택을 요청합니다.\n",
        "    choice = input(\"\\nWhat would you like to do? \")\n",
        "    \n",
        "    # 사용자의 선택에 응답합니다.\n",
        "    if choice == '1':\n",
        "        ride_bicycle()\n",
        "    elif choice == '2':\n",
        "        go_running()\n",
        "    elif choice == '3':\n",
        "        climb_mountain()\n",
        "    elif choice == 'q':\n",
        "        print(\"\\nThanks for playing. See you later.\\n\")\n",
        "    else:\n",
        "        print(\"\\nI don't understand that choice, please try again.\\n\")\n",
        "        \n",
        "# 모두 완료되었다는 메시지를 인쇄합니다.\n",
        "print(\"Thanks again, bye now.\")"
      ],
      "metadata": {
        "id": "p_Oz4vyB0BMm",
        "outputId": "d6be9eba-59c2-4bf2-fc4b-dbc151028e52",
        "colab": {
          "base_uri": "https://localhost:8080/"
        }
      },
      "execution_count": null,
      "outputs": [
        {
          "metadata": {
            "tags": null
          },
          "name": "stdout",
          "output_type": "stream",
          "text": [
            "\n",
            "Welcome to the nature center. What would you like to do?\n",
            "\n",
            "[1] Enter 1 to take a bicycle ride.\n",
            "[2] Enter 2 to go for a run.\n",
            "[3] Enter 3 to climb a mountain.\n",
            "[q] Enter q to quit.\n"
          ]
        }
      ]
    },
    {
      "cell_type": "code",
      "source": [
        "# 두 개의 목록을 만듭니다.\n",
        "unconfirmed_users = ['ada', 'billy', 'clarence', 'daria']\n",
        "confirmed_users = []\n",
        "\n",
        "# 목록을 살펴보고 각 사용자를 확인합시다.\n",
        "while len(unconfirmed_users) > 0:\n",
        "    \n",
        "    # 마지막 사용자를 가져옵니다.\n",
        "    current_user = unconfirmed_users.pop()\n",
        "    print(\"Confirming user %s...confirmed!\" % current_user.title())\n",
        "    \n",
        "    # 확인 목록에 추가하십시오.\n",
        "    confirmed_users.append(current_user)\n",
        "    \n",
        "# Processing proofs.\n",
        "print(\"\\nUnconfirmed users:\")\n",
        "for user in unconfirmed_users:\n",
        "    print('- ' + user.title())\n",
        "    \n",
        "print(\"\\nConfirmed users:\")\n",
        "for user in confirmed_users:\n",
        "    print('- ' + user.title())"
      ],
      "metadata": {
        "id": "GbUU1kdb0IU_",
        "colab": {
          "base_uri": "https://localhost:8080/"
        },
        "outputId": "497fdc27-4135-4c01-c373-a72614043613"
      },
      "execution_count": 1,
      "outputs": [
        {
          "output_type": "stream",
          "name": "stdout",
          "text": [
            "Confirming user Daria...confirmed!\n",
            "Confirming user Clarence...confirmed!\n",
            "Confirming user Billy...confirmed!\n",
            "Confirming user Ada...confirmed!\n",
            "\n",
            "Unconfirmed users:\n",
            "\n",
            "Confirmed users:\n",
            "- Daria\n",
            "- Clarence\n",
            "- Billy\n",
            "- Ada\n"
          ]
        }
      ]
    },
    {
      "cell_type": "code",
      "source": [
        "# 확인되지 않은 사용자 목록과 확인된 사용자의 빈 목록으로 시작합니다.\n",
        "unconfirmed_users = ['ada', 'billy', 'clarence', 'daria']\n",
        "confirmed_users = []\n",
        "\n",
        "# 목록을 살펴보고 각 사용자를 확인합니다.\n",
        "while len(unconfirmed_users) > 0:\n",
        "    \n",
        "    # 확인되지 않은 최신 사용자를 가져와서 처리합니다.\n",
        "    current_user = unconfirmed_users.pop(0)\n",
        "    print(\"Confirming user %s...confirmed!\" % current_user.title())\n",
        "    \n",
        "    # 현재 사용자를 확인된 사용자 목록으로 이동합니다.\n",
        "    confirmed_users.append(current_user)\n",
        "    \n",
        "# 모든 사용자 확인을 완료했음을 증명합니다.\n",
        "print(\"\\nUnconfirmed users:\")\n",
        "for user in unconfirmed_users:\n",
        "    print('- ' + user.title())\n",
        "    \n",
        "print(\"\\nConfirmed users:\")\n",
        "for user in confirmed_users:\n",
        "    print('- ' + user.title())"
      ],
      "metadata": {
        "id": "hxpXsQU50LVm",
        "colab": {
          "base_uri": "https://localhost:8080/"
        },
        "outputId": "b8043764-8db6-4fc8-c749-c26859a58157"
      },
      "execution_count": 2,
      "outputs": [
        {
          "output_type": "stream",
          "name": "stdout",
          "text": [
            "Confirming user Ada...confirmed!\n",
            "Confirming user Billy...confirmed!\n",
            "Confirming user Clarence...confirmed!\n",
            "Confirming user Daria...confirmed!\n",
            "\n",
            "Unconfirmed users:\n",
            "\n",
            "Confirmed users:\n",
            "- Ada\n",
            "- Billy\n",
            "- Clarence\n",
            "- Daria\n"
          ]
        }
      ]
    },
    {
      "cell_type": "code",
      "source": [
        "x, y = 4, 23\n",
        "x = y // 2 # For values y > 1\n",
        "while x > 1:\n",
        "    if y % x == 0: # y는 x로 나눌 수 있습니다.\n",
        "        print(y, 'has factor', x)\n",
        "        break # Step over the else block\n",
        "    else: # y는 x로 나눌 수 없습니다.\n",
        "        x -= 1\n",
        "else: # 정상 종료 주기 а\n",
        "    print(y, 'is prime')"
      ],
      "metadata": {
        "id": "-0gR7N6C0PyA",
        "colab": {
          "base_uri": "https://localhost:8080/"
        },
        "outputId": "16844fae-6080-433a-ec17-cb3b1cdb4d30"
      },
      "execution_count": 3,
      "outputs": [
        {
          "output_type": "stream",
          "name": "stdout",
          "text": [
            "23 is prime\n"
          ]
        }
      ]
    }
  ]
}