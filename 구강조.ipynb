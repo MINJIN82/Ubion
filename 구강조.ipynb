{
  "nbformat": 4,
  "nbformat_minor": 0,
  "metadata": {
    "colab": {
      "provenance": [],
      "authorship_tag": "ABX9TyNCZ8kUlHAt6uz/zp5AMwbe",
      "include_colab_link": true
    },
    "kernelspec": {
      "name": "python3",
      "display_name": "Python 3"
    },
    "language_info": {
      "name": "python"
    }
  },
  "cells": [
    {
      "cell_type": "markdown",
      "metadata": {
        "id": "view-in-github",
        "colab_type": "text"
      },
      "source": [
        "<a href=\"https://colab.research.google.com/github/good-thinking/easy-coding2/blob/main/%EA%B5%AC%EA%B0%95%EC%A1%B0.ipynb\" target=\"_parent\"><img src=\"https://colab.research.google.com/assets/colab-badge.svg\" alt=\"Open In Colab\"/></a>"
      ]
    },
    {
      "cell_type": "markdown",
      "source": [
        "#Lotto 번호 뽑기 프로그램"
      ],
      "metadata": {
        "id": "uWLQ1DaXg86X"
      }
    },
    {
      "cell_type": "code",
      "source": [
        "import random\n",
        "numbers = range(1,46)\n",
        "lotto = random. sample(numbers,6)\n",
        "print(lotto)\n",
        "print(f'오늘의 행운의 로또번호는 {sorted(lotto)}입니다')"
      ],
      "metadata": {
        "id": "EVkh_ltDcXZ-",
        "colab": {
          "base_uri": "https://localhost:8080/"
        },
        "outputId": "f4d85240-d27d-4aad-d0de-5c3f7fae1f9a"
      },
      "execution_count": 60,
      "outputs": [
        {
          "output_type": "stream",
          "name": "stdout",
          "text": [
            "[22, 28, 6, 5, 44, 14]\n",
            "오늘의 행운의 로또번호는 [5, 6, 14, 22, 28, 44]입니다\n"
          ]
        }
      ]
    },
    {
      "cell_type": "markdown",
      "source": [
        "#사칙연산 프로그램"
      ],
      "metadata": {
        "id": "p13vgHIuhHKi"
      }
    },
    {
      "cell_type": "code",
      "source": [
        "number1 = int(input(\"input the first number : \"))\n",
        "number2 = int(input(\"input the second number : \"))\n",
        "\n",
        "print(\"the numbers you input : (\" ,number1,\",\",number2, \")\")\n",
        "\n",
        "print(number1 , \"+\" , number2, \"=\", number1 + number2)\n",
        "print(number1 , \"-\" , number2, \"=\", number1 - number2)\n",
        "print(number1 , \"x\" , number2, \"=\", number1 * number2)\n",
        "print(number1 , \"/\" , number2, \"=\", number1 / number2)"
      ],
      "metadata": {
        "colab": {
          "base_uri": "https://localhost:8080/"
        },
        "id": "Y1OJ3K69hC5W",
        "outputId": "914942cf-9b8b-4b7f-850b-b3797ef328e6"
      },
      "execution_count": 57,
      "outputs": [
        {
          "output_type": "stream",
          "name": "stdout",
          "text": [
            "input the first number : 20\n",
            "input the second number : 10\n",
            "the numbers you input : ( 20 , 10 )\n",
            "20 + 10 = 30\n",
            "20 - 10 = 10\n",
            "20 x 10 = 200\n",
            "20 / 10 = 2.0\n"
          ]
        }
      ]
    },
    {
      "cell_type": "markdown",
      "source": [
        "#날짜 계산기"
      ],
      "metadata": {
        "id": "V0yoLkSNhRbu"
      }
    },
    {
      "cell_type": "code",
      "source": [
        "날짜 = int(input(\"계산하고 싶은 날짜를 입력하세요(ex:10일 뒤 = 10): \"))\n",
        "print(날짜)\n",
        "\n",
        "import datetime\n",
        "start_date = datetime.datetime.today()\n",
        "d_day = 날짜\n",
        "target_date = start_date + datetime.timedelta(d_day)\n",
        "\n",
        "print(f\"start date: {start_date}\")\n",
        "print(f\"d-day: {d_day}\")\n",
        "print(f\"target date: {target_date}\")"
      ],
      "metadata": {
        "colab": {
          "base_uri": "https://localhost:8080/"
        },
        "id": "eUrj7ZjyhdIY",
        "outputId": "50623d9d-0cdf-4c99-c324-beac0affd0fb"
      },
      "execution_count": 56,
      "outputs": [
        {
          "output_type": "stream",
          "name": "stdout",
          "text": [
            "계산하고 싶은 날짜를 입력하세요(ex:10일 뒤 = 10): 100\n",
            "100\n",
            "start date: 2022-12-30 05:54:39.915107\n",
            "d-day: 100\n",
            "target date: 2023-04-09 05:54:39.915107\n"
          ]
        }
      ]
    }
  ]
}